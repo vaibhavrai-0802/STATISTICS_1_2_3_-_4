{
 "cells": [
  {
   "cell_type": "markdown",
   "metadata": {},
   "source": [
    "# STATISTICS 1, 2, 3 & 4"
   ]
  },
  {
   "cell_type": "markdown",
   "metadata": {},
   "source": [
    "## Assignment 1"
   ]
  },
  {
   "cell_type": "markdown",
   "metadata": {},
   "source": [
    "### 2.1. Problem Statement: STATISTICS 1"
   ]
  },
  {
   "cell_type": "markdown",
   "metadata": {},
   "source": [
    "##### 1. You survey households in your area to find the average rent they are paying. Find the standard deviation from the following data: \n",
    "##### $1550, $1700, $900, $850, $1000, $950."
   ]
  },
  {
   "cell_type": "code",
   "execution_count": 15,
   "metadata": {},
   "outputs": [
    {
     "data": {
      "text/plain": [
       "1150.0"
      ]
     },
     "execution_count": 15,
     "metadata": {},
     "output_type": "execute_result"
    }
   ],
   "source": [
    "mean = (1500+1700+900+850+1000+950)/6\n",
    "mean"
   ]
  },
  {
   "cell_type": "code",
   "execution_count": 16,
   "metadata": {},
   "outputs": [
    {
     "data": {
      "text/plain": [
       "640000"
      ]
     },
     "execution_count": 16,
     "metadata": {},
     "output_type": "execute_result"
    }
   ],
   "source": [
    "(((1500-1150)**2)+((1700-1150)**2)+((900-1150)**2)+((850-1150)**2)+((1000-1150)**2)+((950-1150)**2))"
   ]
  },
  {
   "cell_type": "code",
   "execution_count": 17,
   "metadata": {},
   "outputs": [
    {
     "data": {
      "text/plain": [
       "128000.0"
      ]
     },
     "execution_count": 17,
     "metadata": {},
     "output_type": "execute_result"
    }
   ],
   "source": [
    "640000/5"
   ]
  },
  {
   "cell_type": "code",
   "execution_count": 18,
   "metadata": {},
   "outputs": [
    {
     "data": {
      "text/plain": [
       "357.77087639996637"
      ]
     },
     "execution_count": 18,
     "metadata": {},
     "output_type": "execute_result"
    }
   ],
   "source": [
    "(128000)**.5"
   ]
  },
  {
   "cell_type": "markdown",
   "metadata": {},
   "source": [
    "##### 2. Find the variance for the following set of data representing trees in California (heights in feet):\n",
    "##### 3, 21, 98, 203, 17, 9"
   ]
  },
  {
   "cell_type": "code",
   "execution_count": 1,
   "metadata": {},
   "outputs": [],
   "source": [
    "sample_mean = (3+21+98+203+17+9)/6"
   ]
  },
  {
   "cell_type": "code",
   "execution_count": 8,
   "metadata": {},
   "outputs": [
    {
     "data": {
      "text/plain": [
       "58.5"
      ]
     },
     "execution_count": 8,
     "metadata": {},
     "output_type": "execute_result"
    }
   ],
   "source": [
    "sample_mean"
   ]
  },
  {
   "cell_type": "code",
   "execution_count": 12,
   "metadata": {},
   "outputs": [
    {
     "data": {
      "text/plain": [
       "31099.5"
      ]
     },
     "execution_count": 12,
     "metadata": {},
     "output_type": "execute_result"
    }
   ],
   "source": [
    "(((3-58.5)**2)+((21-58.5)**2)+((98-58.5)**2)+((203-58.5)**2)+((17-58.5)**2)+((9-58.5)**2))"
   ]
  },
  {
   "cell_type": "code",
   "execution_count": 14,
   "metadata": {},
   "outputs": [
    {
     "data": {
      "text/plain": [
       "6219.9"
      ]
     },
     "execution_count": 14,
     "metadata": {},
     "output_type": "execute_result"
    }
   ],
   "source": [
    "variance = 31099.5/5\n",
    "variance"
   ]
  },
  {
   "cell_type": "markdown",
   "metadata": {},
   "source": [
    "##### 3. In a class on 100 students, 80 students passed in all subjects, 10 failed in one subject, 7 failed in two subjects and 3 failed in three subjects. Find the probability distribution of the variable for number of subjects a student from the given class has failed in."
   ]
  },
  {
   "cell_type": "code",
   "execution_count": 4,
   "metadata": {},
   "outputs": [
    {
     "data": {
      "text/plain": [
       "0.2"
      ]
     },
     "execution_count": 4,
     "metadata": {},
     "output_type": "execute_result"
    }
   ],
   "source": [
    "#P(x=0) = 80/100\n",
    "#P(X=1) = 10/100\n",
    "#P(X=2) = 7/100\n",
    "#P(X=3) = 3/100\n",
    "\n",
    "#Probability that a student has failed is (P(1) + P(2) + P(3))\n",
    "0.1+.07+.03"
   ]
  },
  {
   "cell_type": "markdown",
   "metadata": {},
   "source": [
    "## 2.2. Problem Statement: STATISTICS 2"
   ]
  },
  {
   "cell_type": "markdown",
   "metadata": {},
   "source": [
    "##### 1. A test is conducted which is consisting of 20 MCQs (multiple choices questions) with every MCQ having its four options out of which only one is correct. Determine the probability that a person undertaking that test has answered exactly 5 questions wrong."
   ]
  },
  {
   "cell_type": "code",
   "execution_count": 12,
   "metadata": {},
   "outputs": [],
   "source": [
    "# Answer 20C5 *((0.75)^5 * (0.25)^15) \n",
    "# 0.00000342649"
   ]
  },
  {
   "cell_type": "code",
   "execution_count": 10,
   "metadata": {},
   "outputs": [],
   "source": [
    "from scipy.stats import binom"
   ]
  },
  {
   "cell_type": "code",
   "execution_count": 11,
   "metadata": {},
   "outputs": [
    {
     "data": {
      "text/plain": [
       "3.4264958230778435e-06"
      ]
     },
     "execution_count": 11,
     "metadata": {},
     "output_type": "execute_result"
    }
   ],
   "source": [
    "binom.pmf(5,20,0.75)"
   ]
  },
  {
   "cell_type": "markdown",
   "metadata": {},
   "source": [
    "##### 2. A die marked A to E is rolled 50 times. Find the probability of getting a “D” exactly 5 times."
   ]
  },
  {
   "cell_type": "code",
   "execution_count": 13,
   "metadata": {},
   "outputs": [],
   "source": [
    "# Answer 50C5 *((1/5)^5 * (4/5)^15) "
   ]
  },
  {
   "cell_type": "code",
   "execution_count": 14,
   "metadata": {},
   "outputs": [
    {
     "data": {
      "text/plain": [
       "0.029531204310523224"
      ]
     },
     "execution_count": 14,
     "metadata": {},
     "output_type": "execute_result"
    }
   ],
   "source": [
    "binom.pmf(5,50,0.2)"
   ]
  },
  {
   "cell_type": "markdown",
   "metadata": {},
   "source": [
    "##### 3. Two balls are drawn at random in succession without replacement from an urn containing 4 red balls and 6 black balls. Find the probabilities of all the possible outcomes."
   ]
  },
  {
   "cell_type": "code",
   "execution_count": 16,
   "metadata": {},
   "outputs": [],
   "source": [
    " # events           Probability\n",
    " #   RR          (4/10)(3/9) = 2/15\n",
    " #   RB          (4/10)(6/9) = 4/15\n",
    " #   BR          (6/10)(4/9) = 4/15 \n",
    " #   BB          (6/10)(5/9) = 1/3\n",
    "#\n",
    "# The probability of 0 blue balls (RR)is 2/15\n",
    "# The probability of 1 blue ball is (RB or BR) is 4/15+4/15 = 8/15\n",
    "# The probability of 2 blue balls (BB) is 1/3\n",
    "\n",
    "# Total (1/3 + 2/15 + 8/15) = 1"
   ]
  },
  {
   "cell_type": "markdown",
   "metadata": {},
   "source": [
    "## 2.3. Problem Statement: STATISTICS 3"
   ]
  },
  {
   "cell_type": "markdown",
   "metadata": {},
   "source": [
    "##### Blood glucose levels for obese patients have a mean of 100 with a standard deviation of 15. A researcher thinks that a diet high in raw cornstarch will have a positive effect on blood glucose levels. A sample of 36 patients who have tried the raw cornstarch diet have a mean glucose level of 108. Test the hypothesis that the raw cornstarch had an effect or not."
   ]
  },
  {
   "cell_type": "code",
   "execution_count": null,
   "metadata": {},
   "outputs": [],
   "source": [
    "H0: μ= 100\n",
    "H1: μ > 100\n",
    "Since significance level is not given in the problem so let’s assume it as 5% (0.05).\n",
    "\n",
    "z= (108-100) / (15/√36)=3.20\n",
    "\n",
    "By looking at z- table and p-value associated with 3.20 is 0.9993 i.e. probability of having value less than 108 is 0.9993 \n",
    "and more than or equals to 108 is (1-0.9993)=0.0007.\n",
    "\n",
    "Since it is less than 0.05 so we will reject the null hypothesis.\n",
    "\n",
    "Therefore there is raw cornstarch effect."
   ]
  },
  {
   "cell_type": "markdown",
   "metadata": {},
   "source": [
    "##### 1. In one state, 52% of the voters are Republicans, and 48% are Democrats. In a second state, 47% of the voters are Republicans, and 53% are Democrats. Suppose a simple random sample of 100 voters are surveyed from each state. What is the probability that the survey will show a greater percentage of Republican voters in the second state than in the first state?"
   ]
  },
  {
   "cell_type": "code",
   "execution_count": null,
   "metadata": {},
   "outputs": [],
   "source": [
    "n1P1 = 100 * 0.52 = 52\n",
    "n1(1 - P1) = 100 * 0.48 = 48\n",
    "\n",
    "n2P2 = 100 * 0.47 = 47\n",
    "n2(1 - P2) = 100 * 0.53 = 53 \n",
    "\n",
    "the mean of the difference in sample proportions: E(p1 - p2) = P1 - P2 = 0.52 - 0.47 = 0.05\n",
    "\n",
    "the standard deviation of the difference\n",
    "std = { [ P1(1 - P1) / n1 ] + [ P2(1 - P2) / n2 ] } ^ 0.5 \n",
    "std = { [ (0.52)(0.48) / 100 ] + [ (0.47)(0.53) / 100 ] }  ^ 0.5\n",
    "std = (0.002496 + 0.002491) ^ 0.5 = (0.004987) ^ 0.5 = 0.0706\n",
    "\n",
    "the probability\n",
    "Z score of (p1 - p2) = (x - mean of (p1-p2) ) / std = = (0 - 0.05)/0.0706 = -0.7082\n",
    "\n",
    "the probability of a z-score being -0.7082 or less is 0.24, by Stat Trek's Normal Distribution Calculator \n",
    "\n",
    "Therefore, the probability that the survey will show a greater percentage of \n",
    "Republican voters in the second state than in the first state is 0.24"
   ]
  },
  {
   "cell_type": "markdown",
   "metadata": {},
   "source": [
    "##### 2. You take the SAT and score 1100. The mean score for the SAT is 1026 and the standard deviation is 209. How well did you score on the test compared to the average test taker?"
   ]
  },
  {
   "cell_type": "code",
   "execution_count": 2,
   "metadata": {},
   "outputs": [
    {
     "data": {
      "text/plain": [
       "0.35406698564593303"
      ]
     },
     "execution_count": 2,
     "metadata": {},
     "output_type": "execute_result"
    }
   ],
   "source": [
    "z = (1100-1026)/209\n",
    "z = 0.35406698564593303\n",
    "\n",
    "From z-table a score of .354 is .1368 +.5000 = .6368\n",
    "therefore 63.68%"
   ]
  },
  {
   "cell_type": "markdown",
   "metadata": {},
   "source": [
    "### 2.4. Problem Statement: STATISTICS 4"
   ]
  },
  {
   "cell_type": "markdown",
   "metadata": {},
   "source": [
    "##### 1. Is gender independent of education level? A random sample of 395 people were surveyed and each person was asked to report the highest education level they obtained. The data that resulted from the survey is summarized in the following table: \n",
    "\n",
    "#####                      High-School      Bachelor         Masters       Ph.D.     Total\n",
    "#####      Female         60                      54                    46              41          201\n",
    "#####      Male             40                      44                    53              57          194\n",
    "#####      Total           100                     98                    99              98           395\n",
    "\n",
    "##### Question: Are gender and education level dependent at 5% level of significance? In other words, given the data collected above, is there a relationship between the gender of an individual and the level of education that they have obtained?"
   ]
  },
  {
   "cell_type": "code",
   "execution_count": null,
   "metadata": {},
   "outputs": [],
   "source": [
    "x^2 = ((60-50.886)^2/50.886 + (54-49.868)^2/49.868 + (46-50.377)^2/50.377 + (41-49.868)^2/49.868 + (40-49.114)^2/49.114\n",
    "       + (44-48.132)^2/48.132 + (53-48.623)^2/48.623 + (57-48.132)^2/48.132\n",
    "\n",
    "The critical value of x^2 = 7.815. \n",
    "Since 8.006 > 7.815\n",
    "Therefore we reject the null hypothesis \n",
    "Thus the education level depends on gender at a 5% level of significance."
   ]
  },
  {
   "cell_type": "markdown",
   "metadata": {},
   "source": [
    "##### 2. Using the following data, perform a one-way analysis of variance using α=.05. \n",
    "##### Write up the results in APA format.\n",
    "##### [Group1: 51, 45, 33, 45, 67]\n",
    "##### [Group2: 23, 43, 23, 43, 45]\n",
    "##### [Group3: 56, 76, 74, 87, 56]"
   ]
  },
  {
   "cell_type": "code",
   "execution_count": null,
   "metadata": {},
   "outputs": [],
   "source": [
    "Sample means (x¯) for the groups: = 48.2, 35.4, 69.8\n",
    "\n",
    "Intermediate steps in calculating the group variances:\n",
    "\n",
    "1\n",
    "value mean deviations sq deviations\n",
    "1    51 48.2        2.8          7.84\n",
    "2    45 48.2       -3.2         10.24\n",
    "3    33 48.2      -15.2        231.04\n",
    "4    45 48.2       -3.2         10.24\n",
    "5    67 48.2       18.8        353.44\n",
    "\n",
    "2\n",
    "value mean deviations sq deviations\n",
    "1    23 35.4      -12.4        153.76\n",
    "2    43 35.4        7.6         57.76\n",
    "3    23 35.4      -12.4        153.76\n",
    "4    43 35.4        7.6         57.76\n",
    "5    45 35.4        9.6         92.16\n",
    "\n",
    "3\n",
    "value mean deviations sq deviations\n",
    "1    56 69.8      -13.8        190.44\n",
    "2    76 69.8        6.2         38.44\n",
    "3    74 69.8        4.2         17.64\n",
    "4    87 69.8       17.2        295.84\n",
    "5    56 69.8      -13.8        190.44\n",
    "Sum of squared deviations from the mean (SS) for the groups:\n",
    "\n",
    "[1] 612.8 515.2 732.8\n",
    "Var1=612.85−1=153.2\n",
    "\n",
    "Var2=515.25−1=128.8\n",
    "\n",
    "Var3=732.85−1=183.2\n",
    "\n",
    "MS error=153.2+128.8+183.23=155.07 this is just the average within-group variance\n",
    "\n",
    "Calculating the remaining error (or within) terms for the ANOVA table:\n",
    "\n",
    "df error=15−3=12\n",
    "\n",
    "SS error=(155.07)(15−3)=1860.8\n",
    "\n",
    "Intermediate steps in calculating the variance of the sample means:\n",
    "\n",
    "Grand mean (x¯grand) = 48.2+35.4+69.83=51.13\n",
    "\n",
    " group mean grand mean deviations sq deviations\n",
    "       48.2      51.13      -2.93          8.58\n",
    "       35.4      51.13     -15.73        247.43\n",
    "       69.8      51.13      18.67        348.57\n",
    "Sum of squares (SSmeans)=604.58\n",
    "\n",
    "Var means=604.583−1=302.29\n",
    "\n",
    "MS between=(302.29)(5)=1511.45 Note: This method of estimating the variance IS sensitive to group mean differences!\n",
    "\n",
    "Calculating the remaining between (or group) terms of the ANOVA table:\n",
    "\n",
    "df groups=3−1=2\n",
    "\n",
    "SS group=(1511.45)(3−1)=3022.9\n",
    "\n",
    "Test statistic and critical value\n",
    "\n",
    "F=1511.45/155.07=9.75\n",
    "\n",
    "F critical(2,12)=3.89\n",
    "\n",
    "Decision: reject H0 \n",
    "\n",
    "ANOVA table\n",
    "\n",
    "source   SS     df    MS      F\n",
    "group  3022.9   2   1511.45  9.75\n",
    "error  1860.8   12  155.07\n",
    "total  4883.7\n",
    "\n",
    "Effect size\n",
    "\n",
    "n^2 =3022.9/4883.7=0.62\n",
    "\n",
    "APA writeup\n",
    "\n",
    "F(2, 12)=9.75, p <0.05, n^2=0.62."
   ]
  },
  {
   "cell_type": "markdown",
   "metadata": {},
   "source": [
    "##### 3. Calculate F Test for given 10, 20, 30, 40, 50 and 5,10,15, 20, 25.\n",
    "##### For 10, 20, 30, 40, 50:"
   ]
  },
  {
   "cell_type": "code",
   "execution_count": null,
   "metadata": {},
   "outputs": [],
   "source": [
    "Variance of first set \n",
    "\n",
    "mean = 150/5 = 30\n",
    "\n",
    "std = (1/(5-1)((10-30)2+(20-30)2+(30-30)2+(40-30)2+(50-30)2))^0.5\n",
    "    =15.8114\n",
    "    \n",
    "Variance= std ^ 2\n",
    "Variance= 15.8114 ^ 2 = 250\n",
    "\n",
    "Variance of second set \n",
    "\n",
    "mean = 75/5 = 15\n",
    "\n",
    "std = (1/(5-1)((5-15)2+(10-15)2+(15-15)2+(20-15)2+(25-15)2)) ^ 0.5\n",
    "     =7.9057 \n",
    "    \n",
    "Variance= std ^ 2 \n",
    "Variance=7.9057 ^ 2 = 62.5 \n",
    "\n",
    "\n",
    "F Test = (variance of 10, 20,30,40,50) / (variance of 5, 10, 15, 20, 25) \n",
    "= 250/62.5 \n",
    "= 4. \n",
    "\n",
    "F Test value is 4"
   ]
  }
 ],
 "metadata": {
  "kernelspec": {
   "display_name": "Python 3",
   "language": "python",
   "name": "python3"
  },
  "language_info": {
   "codemirror_mode": {
    "name": "ipython",
    "version": 3
   },
   "file_extension": ".py",
   "mimetype": "text/x-python",
   "name": "python",
   "nbconvert_exporter": "python",
   "pygments_lexer": "ipython3",
   "version": "3.7.1"
  }
 },
 "nbformat": 4,
 "nbformat_minor": 2
}
